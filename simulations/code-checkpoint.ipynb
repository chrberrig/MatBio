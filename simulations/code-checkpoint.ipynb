{
 "cells": [
  {
   "cell_type": "code",
   "execution_count": 1,
   "metadata": {},
   "outputs": [],
   "source": [
    "# Import stuff: \n",
    "from scipy.integrate import odeint\n",
    "import matplotlib.pyplot as plt\n",
    "import numpy as np\n",
    "import random\n",
    "# from random import randint\n",
    "#import pickle\n",
    "%matplotlib inline"
   ]
  },
  {
   "cell_type": "code",
   "execution_count": 3,
   "metadata": {},
   "outputs": [],
   "source": [
    "# Logistic growth\n",
    "# Lizard population on an island\n",
    "\n",
    "\n",
    "# Parameters\n",
    "K = 1000 # Carrying capacity\n",
    "b = 20/10 # Birth rate: 5 eggs per lizard per year -> 50 eggs per lizard per lifetime (10 years)\n",
    "d = 1/10 # Death rate : one lizard lives for 10 years\n",
    "r = b-d # Growth rate\n",
    "\n",
    "N0 = 100 # Initial population"
   ]
  },
  {
   "cell_type": "code",
   "execution_count": 2,
   "metadata": {},
   "outputs": [],
   "source": [
    "t = np.linspace(0, 10, 100)"
   ]
  },
  {
   "cell_type": "code",
   "execution_count": 7,
   "metadata": {
    "scrolled": false
   },
   "outputs": [
    {
     "data": {
      "image/png": "[encoded data removed]",
      "text/plain": [
       "<Figure size 432x288 with 1 Axes>"
      ]
     },
     "metadata": {
      "needs_background": "light"
     },
     "output_type": "display_data"
    }
   ],
   "source": [
    "# # -------- Simple logistic equation ---------\n",
    "\n",
    "def dN_dt(N, t, r, K):\n",
    "    return r*N*(1-(N/K))\n",
    "\n",
    "par = (r, K)\n",
    "\n",
    "ns = odeint(dN_dt, N0, t, args=par)\n",
    "\n",
    "\n",
    "def analytical(t, N0=N0, r=r, K=K):\n",
    "    return (N0*K*np.exp(r*t))/(K+(N0*(np.exp(r*t)-1)))\n",
    "\n",
    "an = analytical(t)\n",
    "\n",
    "plt.plot(t, ns, 'r.', linestyle=\":\")\n",
    "#plt.plot(t, an, color='tab:cyan')\n",
    "plt.show()"
   ]
  },
  {
   "cell_type": "code",
   "execution_count": null,
   "metadata": {},
   "outputs": [],
   "source": []
  },
  {
   "cell_type": "code",
   "execution_count": null,
   "metadata": {},
   "outputs": [],
   "source": []
  },
  {
   "cell_type": "code",
   "execution_count": null,
   "metadata": {},
   "outputs": [],
   "source": []
  },
  {
   "cell_type": "code",
   "execution_count": 6,
   "metadata": {},
   "outputs": [
    {
     "data": {
      "image/png": "[encoded data removed]",
      "text/plain": [
       "<Figure size 432x288 with 1 Axes>"
      ]
     },
     "metadata": {
      "needs_background": "light"
     },
     "output_type": "display_data"
    }
   ],
   "source": [
    "# # -------- Simple logistic equation ---------\n",
    "\n",
    "\n",
    "#r_N = lambda N: (np.exp(-0.5*N)-np.exp(-0.5*5))\n",
    "\n",
    "def dN_dt(N, t, r, K):\n",
    "    c=0.005\n",
    "    return r*N*(np.exp(-c*N)-np.exp(-c*K))\n",
    "\n",
    "par = (r, K)\n",
    "\n",
    "ns = odeint(dN_dt, N0, t, args=par)\n",
    "\n",
    "\n",
    "\n",
    "\n",
    "plt.plot(t, ns, 'r.', linestyle=\":\")\n",
    "\n",
    "plt.show()"
   ]
  },
  {
   "cell_type": "code",
   "execution_count": null,
   "metadata": {},
   "outputs": [],
   "source": []
  }
 ],
 "metadata": {
  "kernelspec": {
   "display_name": "Python 3",
   "language": "python",
   "name": "python3"
  },
  "language_info": {
   "codemirror_mode": {
    "name": "ipython",
    "version": 3
   },
   "file_extension": ".py",
   "mimetype": "text/x-python",
   "name": "python",
   "nbconvert_exporter": "python",
   "pygments_lexer": "ipython3",
   "version": "3.8.5"
  }
 },
 "nbformat": 4,
 "nbformat_minor": 4
}
