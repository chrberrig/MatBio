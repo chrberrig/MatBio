{
 "cells": [
  {
   "cell_type": "code",
   "execution_count": 1,
   "metadata": {},
   "outputs": [],
   "source": [
    "# Import stuff: \n",
    "from scipy.integrate import odeint\n",
    "import matplotlib.pyplot as plt\n",
    "import numpy as np\n",
    "import scipy as sp\n",
    "from sympy import Symbol\n",
    "from sympy.solvers import solve\n",
    "\n",
    "# This is for reasonable fontsize universally defined:\n",
    "fs_label = 16\n",
    "parameters = {                \n",
    "                'figure.titlesize': fs_label+6,\n",
    "                'axes.labelsize': fs_label,\n",
    "                'axes.titlesize': fs_label+4,\n",
    "                'xtick.labelsize': fs_label,\n",
    "                'ytick.labelsize': fs_label, \n",
    "                'legend.fontsize': fs_label, \n",
    "                'lines.linewidth': 5\n",
    "             }\n",
    "plt.rcParams.update(parameters)"
   ]
  },
  {
   "cell_type": "code",
   "execution_count": 2,
   "metadata": {},
   "outputs": [
    {
     "name": "stdout",
     "output_type": "stream",
     "text": [
      "H_P = 100\n",
      "H_Z = 50\n",
      "P_0 = 2500\n",
      "N_0 = 8000\n",
      "C_max = 500\n",
      "r = 0.005\n",
      "eps = 0.85\n",
      "d = 2.5\n",
      "M = 60\n",
      "phi = 0.8203047484373349\n",
      "m = 0.3\n"
     ]
    }
   ],
   "source": [
    "# Parameters\n",
    "params_dict=dict(\n",
    "    H_P = 100, \n",
    "    H_Z = 50, \n",
    "    P_0 = 2500, \n",
    "    N_0 = 8000, \n",
    "    C_max = 500, \n",
    "    r = 0.005, \n",
    "    eps = 0.85, \n",
    "    d = 2.5, \n",
    "    M = 60, \n",
    "    phi = np.pi*47/180\n",
    ")\n",
    "params_dict.update(\n",
    "    m = 0.3\n",
    ")\n",
    "\n",
    "for k, v in params_dict.items():\n",
    "    assign_str = f\"{k} = {v}\"\n",
    "    exec(assign_str)\n",
    "    print(assign_str)\n",
    "\n",
    "    # phi is the azimuthal angle in radians, s.t. 0 <= phi <= pi\n",
    "\n",
    "g = lambda t, phi, M: np.exp(-0.025*M)*(1- 0.8*np.sin(phi)*np.cos(t*(2*np.pi/365)))\n",
    "\n",
    "uptake = lambda N, t, phi, M=M, H_P=H_P, r=r: g(t, phi, M)*(N/(H_P + N)) - r\n",
    "grazing = lambda P, P_0=P_0, C_max=C_max, H_Z=H_Z: max(0, C_max*(P-P_0)/(H_Z + (P - P_0)))\n",
    "\n",
    "# exchange = lambda A, A_0, m=m, M=M: (m/M)*(A_0 - A)\n"
   ]
  },
  {
   "cell_type": "code",
   "execution_count": 3,
   "metadata": {},
   "outputs": [
    {
     "name": "stderr",
     "output_type": "stream",
     "text": [
      "/usr/lib/python3/dist-packages/ipykernel_launcher.py:28: RuntimeWarning: divide by zero encountered in double_scalars\n",
      "/usr/lib/python3/dist-packages/scipy/integrate/odepack.py:247: ODEintWarning: Excess work done on this call (perhaps wrong Dfun type). Run with full_output = 1 to get quantitative information.\n",
      "  warnings.warn(warning_msg, ODEintWarning)\n"
     ]
    }
   ],
   "source": [
    "N_init = int(1e4)\n",
    "P_init = int(5e3)\n",
    "Z_init = int(1e3)\n",
    "\n",
    "state_init = [N_init, P_init, Z_init]\n",
    "\n",
    "params = tuple(params_dict.items())\n",
    "def deriv(state, t, *params):\n",
    "    \n",
    "    for k, v in params:\n",
    "        assign_str = f\"{k} = {v}\"\n",
    "        exec(assign_str)\n",
    "    \n",
    "    N, P, Z = state\n",
    "    \n",
    "    # print(g(t, phi, M))\n",
    "\n",
    "    Up = 0 #uptake(N, t, phi, M=M, H_P=H_P, r=r)\n",
    "    Gr = grazing(P, P_0=P_0, C_max=C_max, H_Z=H_Z)\n",
    "        \n",
    "    dNdt = -Up*P + m/M*(N_0 - N) #+ exchange(N, N_0, m=m, M=M)\n",
    "    dPdt = Up*P - Gr*Z - m/M*P # + exchange(P+P_0, P_0, m=m, M=M)\n",
    "    dZdt = eps*Gr*Z - d*Z\n",
    "    \n",
    "    return np.array([dNdt, dPdt, dZdt])\n",
    "\n",
    "t_list = np.linspace(0, 7000, 10000)\n",
    "ns = odeint(deriv, state_init, t_list, args=params)\n",
    "\n"
   ]
  },
  {
   "cell_type": "code",
   "execution_count": 4,
   "metadata": {},
   "outputs": [
    {
     "data": {
      "text/plain": [
       "<matplotlib.legend.Legend at 0x7f416f0bf0f0>"
      ]
     },
     "execution_count": 4,
     "metadata": {},
     "output_type": "execute_result"
    },
    {
     "data": {
      "image/png": "[encoded data removed]",
      "text/plain": [
       "<Figure size 1152x576 with 1 Axes>"
      ]
     },
     "metadata": {
      "needs_background": "light"
     },
     "output_type": "display_data"
    }
   ],
   "source": [
    "fig, ax = plt.subplots(figsize=(16,8))\n",
    "lbls = [\"N\", \"P\", \"Z\"]\n",
    "for i, sol in enumerate(ns.T):\n",
    "    ax.plot(t_list, sol, label=lbls[i])\n",
    "    \n",
    "ax.axhline(N_0, color=\"cyan\", alpha=0.5, label=\"$N_{0}$\")\n",
    "ax.set_yscale(\"log\")\n",
    "ax.legend()"
   ]
  },
  {
   "cell_type": "code",
   "execution_count": null,
   "metadata": {},
   "outputs": [],
   "source": []
  },
  {
   "cell_type": "code",
   "execution_count": null,
   "metadata": {},
   "outputs": [],
   "source": []
  }
 ],
 "metadata": {
  "kernelspec": {
   "display_name": "Python 3",
   "language": "python",
   "name": "python3"
  },
  "language_info": {
   "codemirror_mode": {
    "name": "ipython",
    "version": 3
   },
   "file_extension": ".py",
   "mimetype": "text/x-python",
   "name": "python",
   "nbconvert_exporter": "python",
   "pygments_lexer": "ipython3",
   "version": "3.7.3"
  }
 },
 "nbformat": 4,
 "nbformat_minor": 4
}
